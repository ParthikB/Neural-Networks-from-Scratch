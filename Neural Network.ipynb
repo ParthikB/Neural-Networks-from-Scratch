{
  "nbformat": 4,
  "nbformat_minor": 0,
  "metadata": {
    "colab": {
      "name": "Blog 1",
      "provenance": [],
      "collapsed_sections": [],
      "include_colab_link": true
    },
    "kernelspec": {
      "name": "python3",
      "display_name": "Python 3"
    }
  },
  "cells": [
    {
      "cell_type": "markdown",
      "metadata": {
        "id": "view-in-github",
        "colab_type": "text"
      },
      "source": [
        "<a href=\"https://colab.research.google.com/github/ParthikB/Neural-Networks-from-Scratch-2/blob/NN-v0.2/Neural%20Network.ipynb\" target=\"_parent\"><img src=\"https://colab.research.google.com/assets/colab-badge.svg\" alt=\"Open In Colab\"/></a>"
      ]
    },
    {
      "cell_type": "code",
      "metadata": {
        "id": "adP37luQEykF",
        "colab_type": "code",
        "colab": {}
      },
      "source": [
        "import numpy as np\n",
        "\n",
        "\n",
        "##############################################\n",
        "\n",
        "def create_data():\n",
        "  height = [130, 140, 135, 125, 120]\n",
        "  weight = [35 ,  30,  30,  35,  35]\n",
        "  y      = [  0,   1,   0,   1,   1]    \n",
        "  BMI    = [\"Healthy\", \"Unhealthy\", \"Healthy\", \"Unhealthy\", \"Unhealthy\"]\n",
        "\n",
        "  return np.array([height, weight]), np.array(y).reshape(1, -1)\n",
        "  \n",
        "\n",
        "def sigmoid(z):\n",
        "  return 1 / (1 + np.exp(-z))\n",
        "\n",
        "\n",
        "def network_structure(X, neurons_in_hidden_layer, y):\n",
        "  n_x = X.shape[0]\n",
        "  n_h = neurons_in_hidden_layer\n",
        "  n_y = y.shape[0]\n",
        "  return (n_x, n_h, n_y)\n",
        "  \n",
        "\n",
        "def parameters(network_structure):\n",
        "  n_x, n_h, n_y = network_structure\n",
        "  \n",
        "  W1 = np.random.randn(n_h, n_x) * 0.1\n",
        "  b1 = np.zeros((n_h, 1))\n",
        "  \n",
        "  W2 = np.random.randn(n_y, n_h) * 0.1\n",
        "  b2 = np.zeros((n_y, 1))\n",
        "  \n",
        "  parameters = (W1, b1, W2, b2)\n",
        "  return parameters"
      ],
      "execution_count": 0,
      "outputs": []
    },
    {
      "cell_type": "markdown",
      "metadata": {
        "id": "eEdCM-3KQ1Aq",
        "colab_type": "text"
      },
      "source": [
        "### Basic Neuron Working"
      ]
    },
    {
      "cell_type": "code",
      "metadata": {
        "id": "dq6Car8gb_ma",
        "colab_type": "code",
        "colab": {}
      },
      "source": [
        "class Neuron:\n",
        "  def __init__(self, weights, bias):\n",
        "    self.weights = weights\n",
        "    self.bias   = bias\n",
        "    \n",
        "    \n",
        "  def feedforward(self, X):\n",
        "    \n",
        "    # Weights inputs, add bias and then use activation function\n",
        "    z = np.dot(self.weights, X) + self.bias\n",
        "    a = sigmoid(z)\n",
        "    \n",
        "    return a"
      ],
      "execution_count": 0,
      "outputs": []
    },
    {
      "cell_type": "code",
      "metadata": {
        "id": "ktXua9djQFds",
        "colab_type": "code",
        "colab": {
          "base_uri": "https://localhost:8080/",
          "height": 34
        },
        "outputId": "fadd6c6d-edb7-46c2-aa08-f7826403e970"
      },
      "source": [
        "X = [2, 3]\n",
        "weights, bias = [2, 3], [4]\n",
        "\n",
        "neuron = Neuron(weights, bias)\n",
        "\n",
        "neuron.feedforward(X)"
      ],
      "execution_count": 45,
      "outputs": [
        {
          "output_type": "execute_result",
          "data": {
            "text/plain": [
              "array([0.99999996])"
            ]
          },
          "metadata": {
            "tags": []
          },
          "execution_count": 45
        }
      ]
    },
    {
      "cell_type": "markdown",
      "metadata": {
        "id": "STSi9WjjQ6dF",
        "colab_type": "text"
      },
      "source": [
        "### Neural Network Class"
      ]
    },
    {
      "cell_type": "code",
      "metadata": {
        "id": "tb2y30xcesil",
        "colab_type": "code",
        "colab": {}
      },
      "source": [
        "class NeuralNetwork:\n",
        "  '''\n",
        "      A Neural Network with:\n",
        "        - 2 inputs\n",
        "        - a hidden layer with 2 Neurons\n",
        "        - an output layer with 1 Neuron\n",
        "        \n",
        "  '''    \n",
        "    \n",
        "  def feedforward(self, X, parameters):\n",
        "    W1, b1, W2, b2 = parameters\n",
        "    \n",
        "    z1 = np.dot(W1, X) + b1\n",
        "    a1 = sigmoid(z1)\n",
        "    \n",
        "    z2 = np.dot(W2, a1) + b2\n",
        "    a2 = sigmoid(z2)\n",
        "    \n",
        "    y_hat = a2\n",
        "    return y_hat\n",
        "\n",
        "  \n",
        "  def cost(self, yhat, y):\n",
        "    m = y.shape[1]\n",
        "    cost = -np.sum(y * np.log(yhat) + (1-y) * np.log(1-yhat)) / m\n",
        "    return cost\n",
        "  \n",
        "  "
      ],
      "execution_count": 0,
      "outputs": []
    },
    {
      "cell_type": "code",
      "metadata": {
        "id": "ln0yjG87Owma",
        "colab_type": "code",
        "colab": {}
      },
      "source": [
        "X, y = create_data()\n",
        "structure = network_structure(X, 2, y)\n",
        "paras = parameters(structure)"
      ],
      "execution_count": 0,
      "outputs": []
    },
    {
      "cell_type": "code",
      "metadata": {
        "id": "ItLKf51XgaTk",
        "colab_type": "code",
        "colab": {}
      },
      "source": [
        "nn = NeuralNetwork()\n",
        "\n",
        "yhat = nn.feedforward(X, paras)\n",
        "cost = nn.cost(yhat, y)"
      ],
      "execution_count": 0,
      "outputs": []
    }
  ]
}