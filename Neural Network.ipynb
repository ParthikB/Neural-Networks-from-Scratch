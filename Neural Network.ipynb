{
  "nbformat": 4,
  "nbformat_minor": 0,
  "metadata": {
    "colab": {
      "name": "Blog 1",
      "provenance": [],
      "collapsed_sections": [],
      "include_colab_link": true
    },
    "kernelspec": {
      "name": "python3",
      "display_name": "Python 3"
    }
  },
  "cells": [
    {
      "cell_type": "markdown",
      "metadata": {
        "id": "view-in-github",
        "colab_type": "text"
      },
      "source": [
        "<a href=\"https://colab.research.google.com/github/ParthikB/Neural-Networks-from-Scratch-2/blob/NN-v0.1/Neural%20Network.ipynb\" target=\"_parent\"><img src=\"https://colab.research.google.com/assets/colab-badge.svg\" alt=\"Open In Colab\"/></a>"
      ]
    },
    {
      "cell_type": "code",
      "metadata": {
        "id": "adP37luQEykF",
        "colab_type": "code",
        "colab": {}
      },
      "source": [
        "import numpy as np\n",
        "\n",
        "\n",
        "##############################################\n",
        "\n",
        "def create_data():\n",
        "  height = [130, 140, 135, 125, 120]\n",
        "  weight = [35 , 30, 30, 35, 35]\n",
        "  BMI    = [\"Healthy\", \"Unhealthy\", \"Healthy\", \"Unhealthy\", \"Unhealthy\"]\n",
        "\n",
        "\n",
        "def sigmoid(z):\n",
        "  return 1 / (1 + np.exp(-z))\n",
        "\n",
        "\n",
        "def parameters(X):\n",
        "  m = X.shape[0]\n",
        "  \n",
        "  W = np.ones((1, m))\n",
        "  b = np.zeros((1, m))\n",
        "  parameters = (W, b)\n",
        "\n",
        "  return parameters"
      ],
      "execution_count": 0,
      "outputs": []
    },
    {
      "cell_type": "code",
      "metadata": {
        "id": "dq6Car8gb_ma",
        "colab_type": "code",
        "colab": {}
      },
      "source": [
        "class Neuron:\n",
        "  def __init__(self, weights, bias):\n",
        "    self.weights = weights\n",
        "    self.bias   = bias\n",
        "    \n",
        "    \n",
        "  def feedforward(self, X):\n",
        "    \n",
        "    # Weights inputs, add bias and then use activation function\n",
        "    z = np.dot(self.weights, X) + self.bias\n",
        "    a = sigmoid(z)\n",
        "    \n",
        "    return a"
      ],
      "execution_count": 0,
      "outputs": []
    },
    {
      "cell_type": "code",
      "metadata": {
        "id": "tb2y30xcesil",
        "colab_type": "code",
        "colab": {}
      },
      "source": [
        "class NeuralNetwork:\n",
        "  '''\n",
        "      A Neural Network with:\n",
        "        - 2 inputs\n",
        "        - a hidden layer with 2 Neurons (h1, h2)\n",
        "        - an output layer with 1 Neuron (o1)\n",
        "        \n",
        "  '''\n",
        "  \n",
        "  def __init__(self, weights, bias):\n",
        "    self.weights = weights\n",
        "    self.bias    = bias\n",
        "    \n",
        "#   Creating the 3 Neurons we need using the Neuron class we defined before.\n",
        "    self.h1 = Neuron(self.weights, self.bias)\n",
        "    self.h2 = Neuron(self.weights, self.bias)\n",
        "    self.o1 = Neuron(self.weights, self.bias)\n",
        "    \n",
        "    \n",
        "  def feedforward(self, X):\n",
        "    h1_hat = self.h1.feedforward(X)\n",
        "    h2_hat = self.h2.feedforward(X)\n",
        "    \n",
        "#   y_hat --> predictions\n",
        "#   Taking the outputs of the hidden layers Neurons and feeding it as inputs to the output Neuron.\n",
        "    y_hat  = self.o1.feedforward(np.array([h1_hat, h2_hat]))\n",
        "    \n",
        "    return y_hat"
      ],
      "execution_count": 0,
      "outputs": []
    },
    {
      "cell_type": "code",
      "metadata": {
        "id": "ItLKf51XgaTk",
        "colab_type": "code",
        "colab": {
          "base_uri": "https://localhost:8080/",
          "height": 34
        },
        "outputId": "62683cd7-b002-4d01-8fb6-30b3ecf19c2f"
      },
      "source": [
        "nn = NeuralNetwork([0, 1], 0)\n",
        "X = np.array([2, 3])\n",
        "\n",
        "nn.feedforward(X)"
      ],
      "execution_count": 31,
      "outputs": [
        {
          "output_type": "execute_result",
          "data": {
            "text/plain": [
              "0.7216325609518421"
            ]
          },
          "metadata": {
            "tags": []
          },
          "execution_count": 31
        }
      ]
    },
    {
      "cell_type": "code",
      "metadata": {
        "id": "8DQvaWphgqZc",
        "colab_type": "code",
        "colab": {}
      },
      "source": [
        ""
      ],
      "execution_count": 0,
      "outputs": []
    }
  ]
}