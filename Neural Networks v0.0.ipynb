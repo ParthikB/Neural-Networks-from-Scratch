{
  "nbformat": 4,
  "nbformat_minor": 0,
  "metadata": {
    "colab": {
      "name": "Blog 1",
      "provenance": [],
      "collapsed_sections": []
    },
    "kernelspec": {
      "name": "python3",
      "display_name": "Python 3"
    }
  },
  "cells": [
    {
      "cell_type": "code",
      "metadata": {
        "id": "adP37luQEykF",
        "colab_type": "code",
        "colab": {}
      },
      "source": [
        "import numpy as np\n",
        "\n",
        "\n",
        "##############################################\n",
        "\n",
        "def create_data():\n",
        "  height = [130, 140, 135, 125, 120]\n",
        "  weight = [35 , 30]\n",
        "  BMI    = [20.7, 15.3]\n",
        "\n",
        "\n",
        "def sigmoid(z):\n",
        "  return 1 / (1 + np.exp(-z))\n",
        "\n",
        "\n",
        "def parameters(X):\n",
        "  m = X.shape[0]\n",
        "  \n",
        "  W = np.ones((1, m))\n",
        "  b = np.zeros((1, m))\n",
        "  parameters = (W, b)\n",
        "\n",
        "  return parameters\n",
        "\n",
        "\n",
        "def neuron(X, parameters):\n",
        "  \n",
        "  W, b = parameters\n",
        "  \n",
        "  z = np.dot(W, X) + b\n",
        "  yhat = sigmoid(z)\n",
        "  \n",
        "  return yhat"
      ],
      "execution_count": 0,
      "outputs": []
    },
    {
      "cell_type": "code",
      "metadata": {
        "id": "4enWBU-AOppq",
        "colab_type": "code",
        "colab": {}
      },
      "source": [
        ""
      ],
      "execution_count": 0,
      "outputs": []
    }
  ]
}